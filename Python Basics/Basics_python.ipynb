{
  "nbformat": 4,
  "nbformat_minor": 0,
  "metadata": {
    "kernelspec": {
      "display_name": "Python 3",
      "language": "python",
      "name": "python3"
    },
    "language_info": {
      "codemirror_mode": {
        "name": "ipython",
        "version": 3
      },
      "file_extension": ".py",
      "mimetype": "text/x-python",
      "name": "python",
      "nbconvert_exporter": "python",
      "pygments_lexer": "ipython3",
      "version": "3.6.9"
    },
    "colab": {
      "name": "Basics_python.ipynb",
      "provenance": []
    }
  },
  "cells": [
    {
      "cell_type": "markdown",
      "metadata": {
        "id": "yezwz71J9fkb"
      },
      "source": [
        "# Conditional Statements "
      ]
    },
    {
      "cell_type": "code",
      "metadata": {
        "id": "k14JBkjr9fkj"
      },
      "source": [
        "X=10   #Example 1\n",
        "Y=12\n",
        "if X<Y:\n",
        "    print('X is less than Y')\n",
        "elif X>Y:\n",
        "    print('X is greater than Y')\n",
        "else:\n",
        "    print('X and Y are equal')"
      ],
      "execution_count": null,
      "outputs": []
    },
    {
      "cell_type": "code",
      "metadata": {
        "id": "UhApZMUy9fko"
      },
      "source": [
        "x=9\n",
        "r=x%2\n",
        "if r==0:\n",
        "    print('x is Even number')\n",
        "elif r==1:\n",
        "    print('x is odd number')"
      ],
      "execution_count": null,
      "outputs": []
    },
    {
      "cell_type": "markdown",
      "metadata": {
        "id": "jPauxiG39fkq"
      },
      "source": [
        "# Loops\n",
        "## While"
      ]
    },
    {
      "cell_type": "code",
      "metadata": {
        "id": "2bjtuoJS9fkr"
      },
      "source": [
        "count=0\n",
        "while count<=10:\n",
        "    print(count)\n",
        "    count=count+1\n",
        "else: \n",
        "    print(\"Completed\")"
      ],
      "execution_count": null,
      "outputs": []
    },
    {
      "cell_type": "code",
      "metadata": {
        "id": "2tPYyTta9fks"
      },
      "source": [
        "N=int(input(\"Factorial of: \"))\n",
        "fact=1\n",
        "while N:\n",
        "    fact=fact*N\n",
        "    N=N-1\n",
        "print(fact)"
      ],
      "execution_count": null,
      "outputs": []
    },
    {
      "cell_type": "markdown",
      "metadata": {
        "id": "yHiGkNDs9fks"
      },
      "source": [
        "# For"
      ]
    },
    {
      "cell_type": "code",
      "metadata": {
        "id": "56bIgybf9fkt"
      },
      "source": [
        "x=[2,'Rahul','Banana','Apple','Grapes']\n",
        "for i in x:\n",
        "    print(i)"
      ],
      "execution_count": null,
      "outputs": []
    },
    {
      "cell_type": "code",
      "metadata": {
        "id": "aVsuntZD9fku"
      },
      "source": [
        "X=\"BITS PILANI\"\n",
        "for i in X:\n",
        "    print(i)"
      ],
      "execution_count": null,
      "outputs": []
    },
    {
      "cell_type": "markdown",
      "metadata": {
        "id": "h4tvOM4H9fkw"
      },
      "source": [
        "# Nested loops\n",
        "## Example 1"
      ]
    },
    {
      "cell_type": "code",
      "metadata": {
        "id": "yxOyUlfZ9fkx"
      },
      "source": [
        "for j in range(5):\n",
        "    print('*',end=\"\")"
      ],
      "execution_count": null,
      "outputs": []
    },
    {
      "cell_type": "code",
      "metadata": {
        "id": "XNTk96oo9fky"
      },
      "source": [
        "for j in range(5):\n",
        "    print('*',end=\"\")\n",
        "print()\n",
        "for j in range(5):\n",
        "    print('*',end=\"\")"
      ],
      "execution_count": null,
      "outputs": []
    },
    {
      "cell_type": "code",
      "metadata": {
        "id": "tjj57rE99fkz"
      },
      "source": [
        "for i in range(5):\n",
        "    for j in range(5):\n",
        "        print('*',end=\"\")\n",
        "    print()"
      ],
      "execution_count": null,
      "outputs": []
    },
    {
      "cell_type": "code",
      "metadata": {
        "id": "I6FEdq1s9fk0"
      },
      "source": [
        "for i in range(5):\n",
        "    print('*'*(5))"
      ],
      "execution_count": null,
      "outputs": []
    },
    {
      "cell_type": "markdown",
      "metadata": {
        "id": "BvP8Q6fk9fk0"
      },
      "source": [
        "## Example 2"
      ]
    },
    {
      "cell_type": "code",
      "metadata": {
        "id": "9KgKblLK9fk0"
      },
      "source": [
        "for i in range(5):\n",
        "    print('*'*(i+1))"
      ],
      "execution_count": null,
      "outputs": []
    },
    {
      "cell_type": "markdown",
      "metadata": {
        "id": "ePhLdXdb9fk2"
      },
      "source": [
        "# Example 3"
      ]
    },
    {
      "cell_type": "code",
      "metadata": {
        "id": "r2-J055e9fk4"
      },
      "source": [
        "for i in range(5):\n",
        "    print('*'*(5-i))"
      ],
      "execution_count": null,
      "outputs": []
    },
    {
      "cell_type": "code",
      "metadata": {
        "id": "bChQujib9fk5"
      },
      "source": [
        "n=int(input(\"Number of rows: \"))\n",
        "print()\n",
        "for i in range(n):\n",
        "    print('*'*(n-i))"
      ],
      "execution_count": null,
      "outputs": []
    },
    {
      "cell_type": "markdown",
      "metadata": {
        "id": "ORmA_R2X9fk6"
      },
      "source": [
        "# Example 4 "
      ]
    },
    {
      "cell_type": "code",
      "metadata": {
        "id": "Tsxd48M_9fk6"
      },
      "source": [
        "for i in range(5):\n",
        "    print(' '*(4-i)+'*'*(2*i+1))"
      ],
      "execution_count": null,
      "outputs": []
    },
    {
      "cell_type": "markdown",
      "metadata": {
        "id": "NmJf8Ny29fk6"
      },
      "source": [
        "# Loop Control Statements\n",
        "## Break"
      ]
    },
    {
      "cell_type": "code",
      "metadata": {
        "id": "ZK6QNHkb9fk7"
      },
      "source": [
        "av=4   ##chocolate vending machine\n",
        "x=int(input(\"How many you want: \"))\n",
        "i=1\n",
        "while i<=x:\n",
        "    if i>av:\n",
        "        print('**** out of stock **** |SORRY|')\n",
        "        break      \n",
        "    print(\"chocolate\")\n",
        "    i+=1\n",
        "print(\"Have a Good day\")"
      ],
      "execution_count": null,
      "outputs": []
    },
    {
      "cell_type": "markdown",
      "metadata": {
        "id": "MlN8yGfI9fk7"
      },
      "source": [
        "# Continue"
      ]
    },
    {
      "cell_type": "code",
      "metadata": {
        "id": "WZbBOcIB9fk8"
      },
      "source": [
        "for i in range(1,11):\n",
        "    if i==5:\n",
        "        continue\n",
        "    print(i)"
      ],
      "execution_count": null,
      "outputs": []
    },
    {
      "cell_type": "markdown",
      "metadata": {
        "id": "M78EhnXB9fk8"
      },
      "source": [
        "# Pass"
      ]
    },
    {
      "cell_type": "code",
      "metadata": {
        "id": "7feGIb5C9fk8"
      },
      "source": [
        "for i in range(1,11):\n",
        "    if i==5:\n",
        "        pass   #null operation, required when statement is required syntactically\n",
        "    print(i)"
      ],
      "execution_count": null,
      "outputs": []
    },
    {
      "cell_type": "markdown",
      "metadata": {
        "id": "eNuZDn0P9fk8"
      },
      "source": [
        "# Matrix Multiplication using for loop"
      ]
    },
    {
      "cell_type": "code",
      "metadata": {
        "id": "_R4Fozqw9fk9"
      },
      "source": [
        "X=[[5,3],[4,8]]\n",
        "Y=[[1,0],  [2,1]]\n",
        "result=[[0,0],\n",
        "       [0,0]]\n",
        "#iterating through ‘x’ rows\n",
        "for i in range(len(X)):\n",
        "   #iterating through ‘y’ columns\n",
        "   for j in range(len(Y[0])):\n",
        "       #iterating through ‘y’ rows\n",
        "       for k in range(len(Y)):\n",
        "           result[i][j] += X[i][k] * Y[k][j]\n",
        "for r in result:\n",
        "    print(r)"
      ],
      "execution_count": null,
      "outputs": []
    },
    {
      "cell_type": "markdown",
      "metadata": {
        "id": "SO6D3m919fk-"
      },
      "source": [
        "# Numpy"
      ]
    },
    {
      "cell_type": "code",
      "metadata": {
        "id": "M3laDZag9fk_"
      },
      "source": [
        "# Defining a numpy array\n",
        "import numpy as np \n",
        "a = np.array([1, 2, 3])\n",
        "print(a)\n",
        "type(a)"
      ],
      "execution_count": null,
      "outputs": []
    },
    {
      "cell_type": "code",
      "metadata": {
        "id": "_SPAJiK89fk_"
      },
      "source": [
        "x=[1,2,3]\n",
        "print(type(x))\n",
        "y=np.asarray(x)\n",
        "print(type(y))"
      ],
      "execution_count": null,
      "outputs": []
    },
    {
      "cell_type": "code",
      "metadata": {
        "id": "mqWCoZl-9fk_"
      },
      "source": [
        "arr = np.arange(10, 100,2) # Returs an array of numbers from x to y excluding y\n",
        "print(arr)"
      ],
      "execution_count": null,
      "outputs": []
    },
    {
      "cell_type": "code",
      "metadata": {
        "id": "fYHjGTZq9flA"
      },
      "source": [
        "x=np.zeros(5)\n",
        "print(x)"
      ],
      "execution_count": null,
      "outputs": []
    },
    {
      "cell_type": "code",
      "metadata": {
        "id": "wcxOdx5a9flA"
      },
      "source": [
        "arr = np.zeros((5,5))\n",
        "print(arr)"
      ],
      "execution_count": null,
      "outputs": []
    },
    {
      "cell_type": "code",
      "metadata": {
        "scrolled": true,
        "id": "Qj_nupNr9flA"
      },
      "source": [
        "x=np.zeros([5,5],int) # Creates an array of zeros with specified shape\n",
        "print(x)"
      ],
      "execution_count": null,
      "outputs": []
    },
    {
      "cell_type": "code",
      "metadata": {
        "id": "NfGym3OV9flB"
      },
      "source": [
        "vector = np.linspace( 0, 20, 10 ) # Returns numbers(float values) after every 5 numbers from 0 to 25\n",
        "print(vector)"
      ],
      "execution_count": null,
      "outputs": []
    },
    {
      "cell_type": "code",
      "metadata": {
        "id": "LwAODf_U9flB"
      },
      "source": [
        "arr=np.zeros(8)\n",
        "arr3d=arr.reshape((2,2,2)) # Reshapes the array into specified dimension\n",
        "print(arr3d)"
      ],
      "execution_count": null,
      "outputs": []
    },
    {
      "cell_type": "code",
      "metadata": {
        "id": "Bemjefen9flB"
      },
      "source": [
        "arr1=np.arange(10)\n",
        "print(arr[2:])"
      ],
      "execution_count": null,
      "outputs": []
    },
    {
      "cell_type": "code",
      "metadata": {
        "id": "91QTAaaL9flC"
      },
      "source": [
        "arr2=np.arange(20)\n",
        "print(arr[:15])"
      ],
      "execution_count": null,
      "outputs": []
    },
    {
      "cell_type": "markdown",
      "metadata": {
        "id": "wuE_ysfj9flC"
      },
      "source": [
        "# Numpy Math operations"
      ]
    },
    {
      "cell_type": "code",
      "metadata": {
        "id": "ZS6KpRhj9flD"
      },
      "source": [
        "arr=np.arange(11)\n",
        "arr"
      ],
      "execution_count": null,
      "outputs": []
    },
    {
      "cell_type": "code",
      "metadata": {
        "id": "6d_jj9gM9flE"
      },
      "source": [
        "add=arr+5\n",
        "add"
      ],
      "execution_count": null,
      "outputs": []
    },
    {
      "cell_type": "code",
      "metadata": {
        "id": "-l7OsrXq9flE"
      },
      "source": [
        "sub=arr-2\n",
        "sub"
      ],
      "execution_count": null,
      "outputs": []
    },
    {
      "cell_type": "code",
      "metadata": {
        "id": "4bVfy7Il9flE"
      },
      "source": [
        "arr1=np.arange(5)\n",
        "arr2=(np.linspace(0,100,5)).astype(int)\n",
        "print(arr1)\n",
        "print(arr2)"
      ],
      "execution_count": null,
      "outputs": []
    },
    {
      "cell_type": "code",
      "metadata": {
        "id": "VZg8vJUz9flE"
      },
      "source": [
        "matadd=arr1+arr2\n",
        "matadd"
      ],
      "execution_count": null,
      "outputs": []
    },
    {
      "cell_type": "code",
      "metadata": {
        "id": "dF5NL6fj9flF"
      },
      "source": [
        "print(np.sin(arr1))\n",
        "print(np.sqrt(arr1))\n",
        "print(np.sum(arr1))\n",
        "print(np.max(arr1))\n",
        "print(np.min(arr1))"
      ],
      "execution_count": null,
      "outputs": []
    },
    {
      "cell_type": "code",
      "metadata": {
        "id": "ZmPlQsgl9flH"
      },
      "source": [
        "import numpy as np\n",
        "X=np.array([[5,3],[4,8]])\n",
        "Y=np.array([[1,0],[2,1]])"
      ],
      "execution_count": null,
      "outputs": []
    },
    {
      "cell_type": "code",
      "metadata": {
        "id": "ccgD5nTR9flI"
      },
      "source": [
        "X*Y"
      ],
      "execution_count": null,
      "outputs": []
    },
    {
      "cell_type": "code",
      "metadata": {
        "id": "AZ4vXIT39flJ"
      },
      "source": [
        "X.dot(Y)"
      ],
      "execution_count": null,
      "outputs": []
    },
    {
      "cell_type": "markdown",
      "metadata": {
        "id": "XqGur8lw9flK"
      },
      "source": [
        "# PANDAS"
      ]
    },
    {
      "cell_type": "code",
      "metadata": {
        "id": "oQeJBdCH9flK"
      },
      "source": [
        "import pandas as pd"
      ],
      "execution_count": null,
      "outputs": []
    },
    {
      "cell_type": "code",
      "metadata": {
        "id": "sZt37QmZ9flL"
      },
      "source": [
        "demo = pd.DataFrame({'Age':[10,12,15,18,23,32,29,27],\n",
        "             'Salary':[1000,1500,1200,2300,2500,3200,2900,3100],\n",
        "                    'Defaulter':[1,0,1,0,0,1,0,0],\n",
        "              'Gender':['Male','Female','Male','Female','Male','Male',\n",
        "                       'Male','Female']})\n",
        "demo"
      ],
      "execution_count": null,
      "outputs": []
    },
    {
      "cell_type": "code",
      "metadata": {
        "id": "GoSFIDA_9flL"
      },
      "source": [
        "import matplotlib.pyplot as plt\n",
        "import seaborn as sns\n",
        "%matplotlib inline"
      ],
      "execution_count": null,
      "outputs": []
    },
    {
      "cell_type": "code",
      "metadata": {
        "id": "fKZ4fg1K9flM"
      },
      "source": [
        "### This visualization is using matplotlib\n",
        "plt.figure(figsize=(4,4))\n",
        "plt.scatter(demo['Age'],demo['Salary']) #,c = demo['Defaulter']\n",
        "# plt.plottype(X col as a series,Y column as a series)\n",
        "plt.xlabel(\"Age\")\n",
        "plt.ylabel(\"Salary\")\n",
        "plt.title(\"Scatter plot between age and salary\")"
      ],
      "execution_count": null,
      "outputs": []
    },
    {
      "cell_type": "code",
      "metadata": {
        "id": "sdZ_2v-I9flM"
      },
      "source": [
        "plt.hist(demo['Salary'])"
      ],
      "execution_count": null,
      "outputs": []
    },
    {
      "cell_type": "code",
      "metadata": {
        "id": "EuRiLkhE9flM"
      },
      "source": [
        "# Mean Salary of Male, Female , Trans\n",
        "demo_gb = demo.groupby(['Gender']).agg({'Salary':np.mean}).reset_index()\n",
        "demo_gb"
      ],
      "execution_count": null,
      "outputs": []
    },
    {
      "cell_type": "code",
      "metadata": {
        "id": "HM7zbYXU9flN"
      },
      "source": [
        "sns.barplot(x = 'Gender',y = 'Salary',data = demo_gb)"
      ],
      "execution_count": null,
      "outputs": []
    },
    {
      "cell_type": "code",
      "metadata": {
        "id": "76AoZTMS9flN"
      },
      "source": [
        "demo1 = pd.DataFrame({'State':['K','M','D','W'],\n",
        "                     'Corona':[700,1700,400,300]})\n",
        "demo1"
      ],
      "execution_count": null,
      "outputs": []
    },
    {
      "cell_type": "code",
      "metadata": {
        "id": "gvagWZGT9flN"
      },
      "source": [
        "plt.bar(demo1['State'],demo1['Corona'])"
      ],
      "execution_count": null,
      "outputs": []
    },
    {
      "cell_type": "code",
      "metadata": {
        "id": "JklDmpWc9flN"
      },
      "source": [
        "car_data = pd.read_csv('Automobile_data.csv', delimiter=',')\n",
        "manufacturer = car_data['make'].value_counts()\n",
        "manufacturer.plot.pie(figsize=(10,15))\n",
        "plt.show()"
      ],
      "execution_count": null,
      "outputs": []
    },
    {
      "cell_type": "code",
      "metadata": {
        "id": "AA41klEL9flO"
      },
      "source": [
        "#Relationship\tTwo Continuous variables\tScatter Plot\n",
        "#Distribution \tA continuous variable\tHistogram\n",
        "#Comparison\tA categorical variable and numerical variable\tBarplot\n",
        "#Comparison\ta continuous variable over time\tLinechart"
      ],
      "execution_count": null,
      "outputs": []
    },
    {
      "cell_type": "code",
      "metadata": {
        "id": "utGk2mEf9flO"
      },
      "source": [
        ""
      ],
      "execution_count": null,
      "outputs": []
    }
  ]
}